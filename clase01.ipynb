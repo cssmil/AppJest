{
  "cells": [
    {
      "cell_type": "markdown",
      "metadata": {
        "id": "view-in-github",
        "colab_type": "text"
      },
      "source": [
        "<a href=\"https://colab.research.google.com/github/cssmil/AppJest/blob/master/clase01.ipynb\" target=\"_parent\"><img src=\"https://colab.research.google.com/assets/colab-badge.svg\" alt=\"Open In Colab\"/></a>"
      ]
    },
    {
      "cell_type": "markdown",
      "metadata": {
        "id": "T9HaonEOnaUO"
      },
      "source": [
        "# Python\n"
      ]
    },
    {
      "cell_type": "markdown",
      "metadata": {
        "id": "HgtwR27RnaUP"
      },
      "source": [
        "Python es un lenguaje de programación interpretado de alto nivel que en la actualidad tiene múltiples aplicaciones donde resaltan el machine learning, el análisis de datos, el desarrollo Web y de Apps."
      ]
    },
    {
      "cell_type": "markdown",
      "metadata": {
        "id": "jWpMFWoVnaUQ"
      },
      "source": [
        "### Introducción"
      ]
    },
    {
      "cell_type": "markdown",
      "metadata": {
        "id": "put44EBfnaUQ"
      },
      "source": [
        "Algunas de las tareas más comunes al programar son:"
      ]
    },
    {
      "cell_type": "markdown",
      "metadata": {
        "id": "o8fTR9EOnaUQ"
      },
      "source": [
        "Imprimir un texto en pantalla"
      ]
    },
    {
      "cell_type": "code",
      "execution_count": null,
      "metadata": {
        "id": "wfH-3BPZnaUR",
        "outputId": "390799bc-931b-423f-a589-ae38bc7c4d66"
      },
      "outputs": [
        {
          "name": "stdout",
          "output_type": "stream",
          "text": [
            "Bienvenidos al curso de Python\n"
          ]
        }
      ],
      "source": [
        "# funcion(argumentos)\n",
        "print (\"Bienvenidos al curso de Python\")"
      ]
    },
    {
      "cell_type": "markdown",
      "metadata": {
        "id": "9qSM8YXZnaUS"
      },
      "source": [
        "Realizar operaciones matemáticas"
      ]
    },
    {
      "cell_type": "code",
      "execution_count": null,
      "metadata": {
        "id": "aTCjNYDSnaUS",
        "outputId": "0c1616f1-f477-44f0-b3dd-853e92b9b646"
      },
      "outputs": [
        {
          "data": {
            "text/plain": [
              "13"
            ]
          },
          "execution_count": 2,
          "metadata": {},
          "output_type": "execute_result"
        }
      ],
      "source": [
        "5 + 8"
      ]
    },
    {
      "cell_type": "code",
      "execution_count": null,
      "metadata": {
        "id": "nrFMRVBwnaUT",
        "outputId": "94d0ea21-b5ce-4673-e5bf-13a525350514"
      },
      "outputs": [
        {
          "data": {
            "text/plain": [
              "40"
            ]
          },
          "execution_count": 3,
          "metadata": {},
          "output_type": "execute_result"
        }
      ],
      "source": [
        "5*8"
      ]
    },
    {
      "cell_type": "code",
      "execution_count": null,
      "metadata": {
        "id": "su7yjiWznaUT",
        "outputId": "18740d7d-4258-4e07-fbc7-6a116a0f6f0b"
      },
      "outputs": [
        {
          "data": {
            "text/plain": [
              "390625"
            ]
          },
          "execution_count": 4,
          "metadata": {},
          "output_type": "execute_result"
        }
      ],
      "source": [
        "5**8"
      ]
    },
    {
      "cell_type": "code",
      "execution_count": null,
      "metadata": {
        "id": "hD91Y2HknaUU",
        "outputId": "39f05c86-62d6-4c3a-ee5d-bb9c0a952f91"
      },
      "outputs": [
        {
          "data": {
            "text/plain": [
              "-0.9524129804151563"
            ]
          },
          "execution_count": 5,
          "metadata": {},
          "output_type": "execute_result"
        }
      ],
      "source": [
        "import numpy as np\n",
        "np.cos(60)"
      ]
    },
    {
      "cell_type": "markdown",
      "metadata": {
        "id": "T7ZgYk-xnaUU"
      },
      "source": [
        "Utilizar diferentes tipos de datos"
      ]
    },
    {
      "cell_type": "code",
      "execution_count": null,
      "metadata": {
        "id": "FwBVVaignaUU"
      },
      "outputs": [],
      "source": [
        "T = True\n",
        "F = False"
      ]
    },
    {
      "cell_type": "markdown",
      "metadata": {
        "id": "mdiMjoqpnaUU"
      },
      "source": [
        "Recuerde que una variable es un espacio en la memoria de su computador.\n",
        "Un dato es información almacenada dentro de una variable"
      ]
    },
    {
      "cell_type": "code",
      "execution_count": null,
      "metadata": {
        "id": "ZYQtl545naUU"
      },
      "outputs": [],
      "source": [
        "n = 5 #101\n",
        "#bd = base_de_datos"
      ]
    },
    {
      "cell_type": "code",
      "execution_count": null,
      "metadata": {
        "id": "3i07kIaCnaUU",
        "outputId": "5fdaad78-65d3-4cd9-eb6e-4791ead879fa"
      },
      "outputs": [
        {
          "name": "stdout",
          "output_type": "stream",
          "text": [
            "5\n"
          ]
        }
      ],
      "source": [
        "print(n)"
      ]
    },
    {
      "cell_type": "markdown",
      "metadata": {
        "id": "TmLejf-NnaUV"
      },
      "source": [
        "Uso de sentencias"
      ]
    },
    {
      "cell_type": "code",
      "execution_count": null,
      "metadata": {
        "id": "V8w3MhQ3naUV"
      },
      "outputs": [],
      "source": [
        "if a > b:\n",
        "    ejecutar accion\n",
        "else:\n",
        "    no ejecutar nada"
      ]
    },
    {
      "cell_type": "code",
      "execution_count": null,
      "metadata": {
        "id": "R4UzSDaYnaUV"
      },
      "outputs": [],
      "source": [
        "for numero in lista:\n",
        "    ejecutar accion"
      ]
    },
    {
      "cell_type": "code",
      "execution_count": null,
      "metadata": {
        "id": "06RvvT0NnaUV"
      },
      "outputs": [],
      "source": [
        "while a = b:\n",
        "    ejecutar accion"
      ]
    },
    {
      "cell_type": "markdown",
      "metadata": {
        "id": "OuZ_NU8lnaUV"
      },
      "source": [
        "Definición de funciones"
      ]
    },
    {
      "cell_type": "code",
      "execution_count": null,
      "metadata": {
        "id": "BnWmciRynaUV"
      },
      "outputs": [],
      "source": [
        "def mifuncion(argumentos):\n",
        "    algoritmo o serie de pasos"
      ]
    },
    {
      "cell_type": "markdown",
      "metadata": {
        "id": "9_h625hTnaUV"
      },
      "source": [
        "Definición de clases y objetos"
      ]
    },
    {
      "cell_type": "code",
      "execution_count": null,
      "metadata": {
        "id": "O-ZE64RJnaUV"
      },
      "outputs": [],
      "source": [
        "class rectangulo():\n",
        "    self.ancho = 5\n",
        "    self.largo = 8"
      ]
    },
    {
      "cell_type": "markdown",
      "metadata": {
        "id": "GuPcK4fMnaUV"
      },
      "source": [
        "Uso de paquetes o bibliotecas"
      ]
    },
    {
      "cell_type": "code",
      "execution_count": null,
      "metadata": {
        "id": "q2k2Pq2InaUV"
      },
      "outputs": [],
      "source": [
        "import datetime\n",
        "\n",
        "hoy = datetime.datetime.today()\n",
        "print(hoy)"
      ]
    },
    {
      "cell_type": "code",
      "execution_count": null,
      "metadata": {
        "id": "KDgwRv7anaUV"
      },
      "outputs": [],
      "source": [
        "import pandas\n",
        "import numpy\n",
        "import matplotlib.pyplot\n",
        "import seaborn\n",
        "import sklearn"
      ]
    }
  ],
  "metadata": {
    "kernelspec": {
      "display_name": "Python 3",
      "language": "python",
      "name": "python3"
    },
    "language_info": {
      "codemirror_mode": {
        "name": "ipython",
        "version": 3
      },
      "file_extension": ".py",
      "mimetype": "text/x-python",
      "name": "python",
      "nbconvert_exporter": "python",
      "pygments_lexer": "ipython3",
      "version": "3.8.5"
    },
    "colab": {
      "provenance": [],
      "include_colab_link": true
    }
  },
  "nbformat": 4,
  "nbformat_minor": 0
}